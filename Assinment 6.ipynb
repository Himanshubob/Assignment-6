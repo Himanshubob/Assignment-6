{
 "cells": [
  {
   "cell_type": "markdown",
   "id": "d43f5dfe",
   "metadata": {},
   "source": [
    "# Q1.. what is the abstraction in oops ?explain with an example"
   ]
  },
  {
   "cell_type": "markdown",
   "id": "f7b8aed7",
   "metadata": {},
   "source": [
    "# abstraction that hides the internal implemention details"
   ]
  },
  {
   "cell_type": "code",
   "execution_count": 4,
   "id": "05d13860",
   "metadata": {},
   "outputs": [],
   "source": [
    "import abc\n",
    "class college:\n",
    "    @abc.abstractmethod\n",
    "    def student(self):\n",
    "        pass"
   ]
  },
  {
   "cell_type": "code",
   "execution_count": 9,
   "id": "4ce9d8cf",
   "metadata": {},
   "outputs": [],
   "source": [
    "class student_d(college):\n",
    "    def student(self):\n",
    "        return \"this is the first course \""
   ]
  },
  {
   "cell_type": "code",
   "execution_count": 10,
   "id": "8222352c",
   "metadata": {},
   "outputs": [],
   "source": [
    "sd=student_d()"
   ]
  },
  {
   "cell_type": "code",
   "execution_count": 11,
   "id": "83f02ea0",
   "metadata": {},
   "outputs": [
    {
     "data": {
      "text/plain": [
       "'this is the first course '"
      ]
     },
     "execution_count": 11,
     "metadata": {},
     "output_type": "execute_result"
    }
   ],
   "source": [
    "sd.student()"
   ]
  },
  {
   "cell_type": "markdown",
   "id": "dd7b3da3",
   "metadata": {},
   "source": [
    "# Q2.. differentiate b/w abstraction and encapsulation explain with an example\n"
   ]
  },
  {
   "cell_type": "markdown",
   "id": "692182b3",
   "metadata": {},
   "source": [
    "# encapsulation cowered the holl code and abstraction hides the internal implemention details "
   ]
  },
  {
   "cell_type": "code",
   "execution_count": 12,
   "id": "de6a3526",
   "metadata": {},
   "outputs": [],
   "source": [
    "class bike:\n",
    "    def __init__(self,name ,speed):\n",
    "        self.__name=name\n",
    "        self.__speed=speed\n",
    "    def set_speed(self,speed):\n",
    "        self.__speed\n",
    "    def get_speed(self):\n",
    "        return self.__speed"
   ]
  },
  {
   "cell_type": "code",
   "execution_count": 13,
   "id": "df401bcf",
   "metadata": {},
   "outputs": [],
   "source": [
    "b=bike(\"honda\",70)"
   ]
  },
  {
   "cell_type": "code",
   "execution_count": 15,
   "id": "da609833",
   "metadata": {},
   "outputs": [],
   "source": [
    "b.set_speed(70)"
   ]
  },
  {
   "cell_type": "code",
   "execution_count": 16,
   "id": "87bb8146",
   "metadata": {},
   "outputs": [
    {
     "data": {
      "text/plain": [
       "70"
      ]
     },
     "execution_count": 16,
     "metadata": {},
     "output_type": "execute_result"
    }
   ],
   "source": [
    "b.get_speed()"
   ]
  },
  {
   "cell_type": "markdown",
   "id": "5223ac10",
   "metadata": {},
   "source": [
    "# What is the abc module in python ? why is it used"
   ]
  },
  {
   "cell_type": "markdown",
   "id": "f0d51a21",
   "metadata": {},
   "source": [
    "# abc methad use the abstractmethod and get_cache_token etc."
   ]
  },
  {
   "cell_type": "markdown",
   "id": "89c8af94",
   "metadata": {},
   "source": [
    "# Q4. how can we achieve data abstraction "
   ]
  },
  {
   "cell_type": "markdown",
   "id": "d540d098",
   "metadata": {},
   "source": [
    "#  firstly import the abc  module  then  use to @abc.abstractmethod"
   ]
  },
  {
   "cell_type": "markdown",
   "id": "ef3b1e67",
   "metadata": {},
   "source": []
  }
 ],
 "metadata": {
  "kernelspec": {
   "display_name": "Python 3 (ipykernel)",
   "language": "python",
   "name": "python3"
  },
  "language_info": {
   "codemirror_mode": {
    "name": "ipython",
    "version": 3
   },
   "file_extension": ".py",
   "mimetype": "text/x-python",
   "name": "python",
   "nbconvert_exporter": "python",
   "pygments_lexer": "ipython3",
   "version": "3.10.9"
  }
 },
 "nbformat": 4,
 "nbformat_minor": 5
}
